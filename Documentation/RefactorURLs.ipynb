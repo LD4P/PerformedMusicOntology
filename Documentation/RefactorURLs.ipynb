{
 "cells": [
  {
   "cell_type": "code",
   "execution_count": 1,
   "id": "c47ef658-e058-4132-b4ff-51bc720c41ee",
   "metadata": {},
   "outputs": [],
   "source": [
    "import datetime\n",
    "import pathlib\n",
    "import urllib.parse\n",
    "import xml.etree.ElementTree as etree\n",
    "\n",
    "import rdflib\n",
    "\n",
    "from jinja2 import Template\n",
    "\n",
    "DC = rdflib.Namespace(\"http://purl.org/dc/terms/\")\n",
    "OWL = rdflib.Namespace(\"http://www.w3.org/2002/07/owl#\")\n",
    "RDACT = rdflib.Namespace(\"http://rdaregistry.info/termList/RDACarrierType/\")\n",
    "SKOS = rdflib.Namespace(\"http://www.w3.org/2004/02/skos/core#\")\n",
    "\n",
    "from helpers import init_vocabulary, pmo_homepage"
   ]
  },
  {
   "cell_type": "code",
   "execution_count": 2,
   "id": "b568d884-c059-436f-b595-dcd6559d4889",
   "metadata": {},
   "outputs": [],
   "source": [
    "ontology_base = pathlib.Path(\"/Users/jpnelson/30-39 Sinopia, Blue-Core, FOLIO, and PCC/34.01 LD4P Performed Music Ontology/\")"
   ]
  },
  {
   "cell_type": "markdown",
   "id": "41e50166-d9bd-42d4-8b1c-953b118a8c74",
   "metadata": {},
   "source": [
    "## Generate PMO Home"
   ]
  },
  {
   "cell_type": "code",
   "execution_count": 3,
   "id": "b9db5bf8-f398-4c03-bfd0-6eb1f8a6106c",
   "metadata": {},
   "outputs": [],
   "source": [
    "pmo_rdf_path = ontology_base / \"PMO 2.0/Ontology/PMO.rdf\"\n",
    "pmo_html_path = ontology_base / \"ontology/PMO.html\""
   ]
  },
  {
   "cell_type": "code",
   "execution_count": 4,
   "id": "82422c31-f9e9-4d98-8cd7-54f54d997430",
   "metadata": {},
   "outputs": [
    {
     "name": "stdout",
     "output_type": "stream",
     "text": [
      "Starting PMO HTML generation\n",
      "Generating 16 PMO classes\n",
      "2025-04-17T22:01:05.850337+00:00 Finished initializing AllMusicId\n",
      "\tFinished PMO class http://performedmusicontology.org/ontology/AllMusicId\n",
      "2025-04-17T22:01:05.851442+00:00 Finished initializing DiscogsId\n",
      "\tFinished PMO class http://performedmusicontology.org/ontology/DiscogsId\n",
      "2025-04-17T22:01:05.852382+00:00 Finished initializing DramaticRole\n",
      "\tFinished PMO class http://performedmusicontology.org/ontology/DramaticRole\n",
      "2025-04-17T22:01:05.853577+00:00 Finished initializing EnsembleSize\n",
      "\tFinished PMO class http://performedmusicontology.org/ontology/EnsembleSize\n",
      "2025-04-17T22:01:05.854346+00:00 Finished initializing EventName\n",
      "\tFinished PMO class http://performedmusicontology.org/ontology/EventName\n",
      "2025-04-17T22:01:05.855110+00:00 Finished initializing KeyMode\n",
      "\tFinished PMO class http://performedmusicontology.org/ontology/KeyMode\n",
      "2025-04-17T22:01:05.856133+00:00 Finished initializing MediumComponent\n",
      "\tFinished PMO class http://performedmusicontology.org/ontology/MediumComponent\n",
      "2025-04-17T22:01:05.857221+00:00 Finished initializing MediumComponentQualifier\n",
      "\tFinished PMO class http://performedmusicontology.org/ontology/MediumComponentQualifier\n",
      "2025-04-17T22:01:05.858355+00:00 Finished initializing MediumOfPerformance\n",
      "\tFinished PMO class http://performedmusicontology.org/ontology/MediumOfPerformance\n",
      "2025-04-17T22:01:05.859402+00:00 Finished initializing Mode\n",
      "\tFinished PMO class http://performedmusicontology.org/ontology/Mode\n",
      "2025-04-17T22:01:05.860286+00:00 Finished initializing MusicBrainzId\n",
      "\tFinished PMO class http://performedmusicontology.org/ontology/MusicBrainzId\n",
      "2025-04-17T22:01:05.861294+00:00 Finished initializing OpusNumber\n",
      "\tFinished PMO class http://performedmusicontology.org/ontology/OpusNumber\n",
      "2025-04-17T22:01:05.862300+00:00 Finished initializing RismNumber\n",
      "\tFinished PMO class http://performedmusicontology.org/ontology/RismNumber\n",
      "2025-04-17T22:01:05.863340+00:00 Finished initializing Tempo\n",
      "\tFinished PMO class http://performedmusicontology.org/ontology/Tempo\n",
      "2025-04-17T22:01:05.864457+00:00 Finished initializing ThematicCatalogNumber\n",
      "\tFinished PMO class http://performedmusicontology.org/ontology/ThematicCatalogNumber\n",
      "2025-04-17T22:01:05.865550+00:00 Finished initializing VideogamePlatformIdentifier\n",
      "\tFinished PMO class http://performedmusicontology.org/ontology/VideogamePlatformIdentifier\n",
      "Total PMO classes 16\n",
      "Generating Object 25 Properties\n",
      "2025-04-17T22:01:05.866727+00:00 Finished initializing aggregatedIn\n",
      "\tFinished object property aggregatedIn\n",
      "2025-04-17T22:01:05.867741+00:00 Finished initializing aggregates\n",
      "\tFinished object property aggregates\n",
      "2025-04-17T22:01:05.868850+00:00 Finished initializing asMemberOf\n",
      "\tFinished object property asMemberOf\n",
      "2025-04-17T22:01:05.870122+00:00 Finished initializing associatedWith\n",
      "\tFinished object property associatedWith\n",
      "2025-04-17T22:01:05.871219+00:00 Finished initializing createdFor\n",
      "\tFinished object property createdFor\n",
      "2025-04-17T22:01:05.872130+00:00 Finished initializing hasDramaticRole\n",
      "\tFinished object property hasDramaticRole\n",
      "2025-04-17T22:01:05.873071+00:00 Finished initializing hasEnsembleSize\n",
      "\tFinished object property hasEnsembleSize\n",
      "2025-04-17T22:01:05.874020+00:00 Finished initializing hasEventName\n",
      "\tFinished object property hasEventName\n",
      "2025-04-17T22:01:05.875050+00:00 Finished initializing hasInspiration\n",
      "\tFinished object property hasInspiration\n",
      "2025-04-17T22:01:05.876012+00:00 Finished initializing hasKeyMode\n",
      "\tFinished object property hasKeyMode\n",
      "2025-04-17T22:01:05.876884+00:00 Finished initializing hasMediumComponent\n",
      "\tFinished object property hasMediumComponent\n",
      "2025-04-17T22:01:05.877913+00:00 Finished initializing hasMediumComponentQualifier\n",
      "\tFinished object property hasMediumComponentQualifier\n",
      "2025-04-17T22:01:05.878702+00:00 Finished initializing hasMediumOfPerformance\n",
      "\tFinished object property hasMediumOfPerformance\n",
      "2025-04-17T22:01:05.879550+00:00 Finished initializing hasMode\n",
      "\tFinished object property hasMode\n",
      "2025-04-17T22:01:05.880408+00:00 Finished initializing hasPerformance\n",
      "\tFinished object property hasPerformance\n",
      "2025-04-17T22:01:05.881267+00:00 Finished initializing hasRecording\n",
      "\tFinished object property hasRecording\n",
      "2025-04-17T22:01:05.882062+00:00 Finished initializing hasTempo\n",
      "\tFinished object property hasTempo\n",
      "2025-04-17T22:01:05.882890+00:00 Finished initializing inspirationFor\n",
      "\tFinished object property inspirationFor\n",
      "2025-04-17T22:01:05.883848+00:00 Finished initializing performanceOf\n",
      "\tFinished object property performanceOf\n",
      "2025-04-17T22:01:05.884836+00:00 Finished initializing recordingOf\n",
      "\tFinished object property recordingOf\n",
      "2025-04-17T22:01:05.885563+00:00 Finished initializing remixOf\n",
      "\tFinished object property remixOf\n",
      "2025-04-17T22:01:05.886244+00:00 Finished initializing remixedIn\n",
      "\tFinished object property remixedIn\n",
      "2025-04-17T22:01:05.886946+00:00 Finished initializing sampledBy\n",
      "\tFinished object property sampledBy\n",
      "2025-04-17T22:01:05.887611+00:00 Finished initializing samplesFrom\n",
      "\tFinished object property samplesFrom\n",
      "2025-04-17T22:01:05.888310+00:00 Finished initializing usesMediumOfPerformance\n",
      "\tFinished object property usesMediumOfPerformance\n",
      "Total PMO object properties 25\n",
      "Generating data properties\n",
      "2025-04-17T22:01:05.889018+00:00 Finished initializing hasMediumCount\n",
      "\tFinished data property hasMediumCount\n",
      "2025-04-17T22:01:05.889853+00:00 Finished initializing hasNumberOfHands\n",
      "\tFinished data property hasNumberOfHands\n",
      "2025-04-17T22:01:05.890561+00:00 Finished initializing phonogramCopyrightDate\n",
      "\tFinished data property phonogramCopyrightDate\n",
      "Total PMO data properties 3\n",
      "Finished generating PMO HTML\n"
     ]
    }
   ],
   "source": [
    "pmo_homepage(pmo_rdf_path, pmo_html_path)"
   ]
  },
  {
   "cell_type": "markdown",
   "id": "9a9eb223-2a60-45d5-97d6-52198519022e",
   "metadata": {},
   "source": [
    "## Ensemble Size"
   ]
  },
  {
   "cell_type": "code",
   "execution_count": 5,
   "id": "44489c51-e56f-4998-bfbb-2ee26e49a6b2",
   "metadata": {},
   "outputs": [
    {
     "name": "stdout",
     "output_type": "stream",
     "text": [
      "2025-04-17T22:01:14.949316+00:00 Staring ontology initialization\n",
      "/Users/jpnelson/30-39 Sinopia, Blue-Core, FOLIO, and PCC/34.01 LD4P Performed Music Ontology/vocabularies/ensemble_size False\n",
      "2025-04-17T22:01:14.968503+00:00 Finished initializing solo or individual\n",
      "2025-04-17T22:01:14.970485+00:00 Finished initializing duo\n",
      "2025-04-17T22:01:14.972275+00:00 Finished initializing trio\n",
      "2025-04-17T22:01:14.973644+00:00 Finished initializing quartet\n",
      "2025-04-17T22:01:14.975741+00:00 Finished initializing quintet\n",
      "2025-04-17T22:01:14.977543+00:00 Finished initializing sextet\n",
      "2025-04-17T22:01:14.979486+00:00 Finished initializing septet\n",
      "2025-04-17T22:01:14.980808+00:00 Finished initializing octet\n",
      "2025-04-17T22:01:14.982117+00:00 Finished initializing nonet\n",
      "2025-04-17T22:01:14.983446+00:00 Finished initializing small ensemble\n",
      "2025-04-17T22:01:14.984722+00:00 Finished initializing large ensemble\n",
      "\n",
      "2025-04-17T22:01:14.986504+00:00 - Finished PMO Ensemble Size Vocabulary, total time 0.0 minutes\n"
     ]
    }
   ],
   "source": [
    "init_vocabulary(\n",
    "    pmo_base_path = ontology_base,\n",
    "    rdf_file = \"PMO 2.0/Ontology/Vocabularies/EnsembleSize/Ensemble_size.ttl\",\n",
    "    html_doc_file=\"PMOEnsembleSize\"\n",
    ")"
   ]
  },
  {
   "cell_type": "markdown",
   "id": "9afcb4c1-e646-4233-8c04-9381bac25cb1",
   "metadata": {},
   "source": [
    "## Event Type"
   ]
  },
  {
   "cell_type": "code",
   "execution_count": 6,
   "id": "4769c480-acfc-4814-9f38-8387dcc9eda0",
   "metadata": {},
   "outputs": [
    {
     "name": "stdout",
     "output_type": "stream",
     "text": [
      "2025-04-17T22:01:20.035153+00:00 Staring ontology initialization\n",
      "/Users/jpnelson/30-39 Sinopia, Blue-Core, FOLIO, and PCC/34.01 LD4P Performed Music Ontology/vocabularies/event_type False\n",
      "2025-04-17T22:01:20.057115+00:00 Finished initializing Audition\n",
      "2025-04-17T22:01:20.058859+00:00 Finished initializing Benefit concert\n",
      "2025-04-17T22:01:20.061595+00:00 Finished initializing Ceremony\n",
      "2025-04-17T22:01:20.063331+00:00 Finished initializing Command performance\n",
      "2025-04-17T22:01:20.065450+00:00 Finished initializing Concert\n",
      "2025-04-17T22:01:20.067398+00:00 Finished initializing Concert series\n",
      "2025-04-17T22:01:20.069046+00:00 Finished initializing Series of concerts by a performer or group of performers in different cities, countries, or locations.\n",
      "2025-04-17T22:01:20.070584+00:00 Finished initializing First performance\n",
      "2025-04-17T22:01:20.072236+00:00 Finished initializing Master class\n",
      "2025-04-17T22:01:20.073821+00:00 Finished initializing Open mic performance\n",
      "2025-04-17T22:01:20.075511+00:00 Finished initializing Performance\n",
      "2025-04-17T22:01:20.077396+00:00 Finished initializing Recording session\n",
      "2025-04-17T22:01:20.078563+00:00 Finished initializing Rehearsal\n",
      "\n",
      "2025-04-17T22:01:20.078774+00:00 - Finished PMO Event Type Vocabulary, total time 0.0 minutes\n"
     ]
    }
   ],
   "source": [
    "init_vocabulary(\n",
    "    pmo_base_path = ontology_base,\n",
    "    rdf_file = \"PMO 2.0/Ontology/Vocabularies/EventType/Event_type.ttl\",\n",
    "    html_doc_file=\"PMOEventType\"\n",
    ")"
   ]
  },
  {
   "cell_type": "markdown",
   "id": "58e45cbf-bff2-4af5-baf5-f0f2172d3606",
   "metadata": {},
   "source": [
    "## Medium Component Qualifier"
   ]
  },
  {
   "cell_type": "code",
   "execution_count": 7,
   "id": "04997897-32f2-4825-80a1-62bc4e292178",
   "metadata": {},
   "outputs": [
    {
     "name": "stdout",
     "output_type": "stream",
     "text": [
      "2025-04-17T22:01:24.736945+00:00 Staring ontology initialization\n",
      "/Users/jpnelson/30-39 Sinopia, Blue-Core, FOLIO, and PCC/34.01 LD4P Performed Music Ontology/vocabularies/medium_component_qualifier False\n",
      "2025-04-17T22:01:24.752631+00:00 Finished initializing ad lib\n",
      "2025-04-17T22:01:24.754651+00:00 Finished initializing amplified\n",
      "2025-04-17T22:01:24.762566+00:00 Finished initializing obbligato\n",
      "2025-04-17T22:01:24.764581+00:00 Finished initializing offstage\n",
      "2025-04-17T22:01:24.766475+00:00 Finished initializing optional\n",
      "2025-04-17T22:01:24.767672+00:00 Finished initializing solo\n",
      "\n",
      "2025-04-17T22:01:24.767886+00:00 - Finished PMO Medium Component Qualifier Vocabulary, total time 0.0 minutes\n"
     ]
    }
   ],
   "source": [
    "init_vocabulary(\n",
    "    pmo_base_path = ontology_base,\n",
    "    rdf_file = \"PMO 2.0/Ontology/Vocabularies/MediumComponentQualifier/Medium_component_qualifier.ttl\",\n",
    "    html_doc_file=\"PMOMediumComponentQualifier\"\n",
    ")"
   ]
  },
  {
   "cell_type": "code",
   "execution_count": null,
   "id": "46016fc0-25b9-4a5e-bb30-70e8f02533e2",
   "metadata": {},
   "outputs": [],
   "source": []
  }
 ],
 "metadata": {
  "kernelspec": {
   "display_name": "Python 3 (ipykernel)",
   "language": "python",
   "name": "python3"
  },
  "language_info": {
   "codemirror_mode": {
    "name": "ipython",
    "version": 3
   },
   "file_extension": ".py",
   "mimetype": "text/x-python",
   "name": "python",
   "nbconvert_exporter": "python",
   "pygments_lexer": "ipython3",
   "version": "3.13.1"
  }
 },
 "nbformat": 4,
 "nbformat_minor": 5
}
